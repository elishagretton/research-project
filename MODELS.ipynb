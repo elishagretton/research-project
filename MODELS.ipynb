{
  "nbformat": 4,
  "nbformat_minor": 0,
  "metadata": {
    "colab": {
      "name": "Models (written up).ipynb",
      "provenance": [],
      "collapsed_sections": [
        "wF5mr5ePyGth"
      ],
      "toc_visible": true
    },
    "kernelspec": {
      "name": "python3",
      "display_name": "Python 3"
    },
    "language_info": {
      "name": "python"
    }
  },
  "cells": [
    {
      "cell_type": "code",
      "execution_count": null,
      "metadata": {
        "id": "AbRa-47zx68P"
      },
      "outputs": [],
      "source": [
        "# Import modules\n",
        "import numpy as np\n",
        "import matplotlib\n",
        "import matplotlib.pyplot as plt\n",
        "import scipy as sp\n",
        "from scipy.integrate import odeint\n",
        "import pylab as p\n",
        "from matplotlib.lines import Line2D"
      ]
    },
    {
      "cell_type": "markdown",
      "source": [
        "# Model 1: Ordinary differential equations (ODEs)"
      ],
      "metadata": {
        "id": "wF5mr5ePyGth"
      }
    },
    {
      "cell_type": "code",
      "source": [
        "# Define functions\n",
        "def f(X, theta, n):\n",
        "  return 1/(1+pow((X/theta),n))\n",
        "\n",
        "def dZ_dt(Z, ts, f, mu, theta, n): \n",
        "  X, Y = Z[0], Z[1]\n",
        "  dxdt, dydt = -mu*X + f(Y,theta,n), -mu*Y + f(X,theta,n)\n",
        "  return [dxdt, dydt]\n"
      ],
      "metadata": {
        "id": "0IUoTjSgyIas"
      },
      "execution_count": null,
      "outputs": []
    },
    {
      "cell_type": "code",
      "source": [
        "# Define initial conditions and parameters\n",
        "Z0 = [0, 0.01] \n",
        "mu = 1\n",
        "theta = 0.3\n",
        "n = 3\n",
        "ts = np.linspace(0, 20, 400)\n",
        "\n",
        "\n",
        "# Run simulation\n",
        "Zs = odeint(dZ_dt, Z0, ts, args=(f,mu,theta,n))\n",
        "\n",
        "# Plot simulation\n",
        "fig = plt.figure()\n",
        "fig.set_size_inches(6,6)\n",
        "plt.plot(ts, Zs[:,0],label='Cell X')\n",
        "plt.plot(ts, Zs[:,1],label='Cell Y',linestyle='--')\n",
        "plt.legend(loc='right',prop={\"size\":12},markerscale=2)\n",
        "plt.xlabel('Time',fontsize=13)\n",
        "plt.ylabel('Concentration',fontsize=13)"
      ],
      "metadata": {
        "id": "CPvyvMHFyLT_"
      },
      "execution_count": null,
      "outputs": []
    },
    {
      "cell_type": "markdown",
      "source": [
        "Now we look at changing parameters and the effect it has on the biological system."
      ],
      "metadata": {
        "id": "A7OxrvhUyeGO"
      }
    },
    {
      "cell_type": "code",
      "source": [
        "# Changing parameters (n)\n",
        "\n",
        "n = 4 # how many lines to draw or number of discrete color levels\n",
        "cmap = plt.get_cmap(\"Blues\", n)\n",
        "cmap = matplotlib.colors.ListedColormap(['#d0e1f0','#86b2d8','#316a9a','#193750'])\n",
        "fig = plt.figure()\n",
        "fig.set_size_inches(8,6)\n",
        "# Set initial conditions\n",
        "ts = np.linspace(0, 30, 400)\n",
        "Z0 = [0, 0.01] # initial conditions for x and y\n",
        "\n",
        "# Time graph n=2\n",
        "fig = plt.figure()\n",
        "fig.set_size_inches(8,6)\n",
        "\n",
        "Zs = odeint(dZ_dt, Z0, ts, args=(f,1,0.2,2))\n",
        "plt.plot(ts, Zs[:,0], color='r',alpha=0.7)\n",
        "plt.plot(ts, Zs[:,1], color='r',alpha=0.7,linestyle='--')\n",
        "plt.axvline(17, 0, 1,color='g')\n",
        "\n",
        "# Time graph n=3\n",
        "Zs = odeint(dZ_dt, Z0, ts, args=(f,1,0.2,2.25))\n",
        "plt.plot(ts, Zs[:,0], color=cmap(1))\n",
        "plt.plot(ts, Zs[:,1], color=cmap(1),linestyle='--')\n",
        "\n",
        "# Time graph n=4\n",
        "Zs = odeint(dZ_dt, Z0, ts, args=(f,1,0.2,2.5))\n",
        "plt.plot(ts, Zs[:,0], color=cmap(2))\n",
        "plt.plot(ts, Zs[:,1], color=cmap(2),linestyle='--')\n",
        "\n",
        "Zs = odeint(dZ_dt, Z0, ts, args=(f,1,0.2,2.75))\n",
        "plt.plot(ts, Zs[:,0], color=cmap(3))\n",
        "plt.plot(ts, Zs[:,1], color=cmap(3),linestyle='--')\n",
        "\n",
        "plt.xlabel(\"Time\", fontsize=12)\n",
        "plt.ylabel(\"Concentration\", fontsize=12)\n",
        "line1 = Line2D(range(1), range(1), color='#3b7fb9')\n",
        "line2 = Line2D(range(1), range(1), color='#3b7fb9',linestyle='--')\n",
        "line3 = Line2D(range(1), range(1), color='g')\n",
        "plt.legend((line1,line2,line3),('Cell X','Cell Y',\"Time to Switch\"),numpoints=1, loc=7,prop={\"size\":12},markerscale=2)\n",
        " \n",
        "sm = plt.cm.ScalarMappable(cmap=cmap)\n",
        "sm.set_array([])\n",
        "cbar=plt.colorbar(sm, ticks=np.linspace(0, 1, 4, endpoint=False) + 1/12,label='Varying value of parameter n')\n",
        "cbar.ax.set_yticklabels(['2.0','2.25', '2.5', '2.75'])\n",
        "cbar.ax.axes.tick_params(length=0)\n",
        "\n",
        "plt.show()"
      ],
      "metadata": {
        "id": "ksobN6XJyWZi"
      },
      "execution_count": null,
      "outputs": []
    },
    {
      "cell_type": "code",
      "source": [
        "# Changing parameters - theta\n",
        "n = 4 # how many lines to draw or number of discrete color levels\n",
        "cmap = plt.get_cmap(\"Blues\", n)\n",
        "cmap = matplotlib.colors.ListedColormap(['#d0e1f0','#86b2d8','#316a9a','#193750'])\n",
        "fig = plt.figure()\n",
        "fig.set_size_inches(8,6)\n",
        "# Set initial conditions\n",
        "ts = np.linspace(0, 30, 400)\n",
        "Z0 = [0, 0.01] # initial conditions for x and y\n",
        "\n",
        "# Time graph n=2\n",
        "fig = plt.figure()\n",
        "fig.set_size_inches(8,6)\n",
        "\n",
        "Zs = odeint(dZ_dt, Z0, ts, args=(f,1,0.2,2))\n",
        "plt.plot(ts, Zs[:,0], color=cmap(0))\n",
        "plt.plot(ts, Zs[:,1], color=cmap(0),linestyle='--')\n",
        "\n",
        "Zs = odeint(dZ_dt, Z0, ts, args=(f,1,0.2,2.25))\n",
        "plt.plot(ts, Zs[:,0], color=cmap(1))\n",
        "plt.plot(ts, Zs[:,1], color=cmap(1),linestyle='--')\n",
        "\n",
        "\n",
        "Zs = odeint(dZ_dt, Z0, ts, args=(f,1,0.2,2.5))\n",
        "plt.plot(ts, Zs[:,0], color='r',alpha=0.7)\n",
        "plt.plot(ts, Zs[:,1], color='r',alpha=0.7,linestyle='--')\n",
        "\n",
        "Zs = odeint(dZ_dt, Z0, ts, args=(f,1,0.2,2.75))\n",
        "plt.plot(ts, Zs[:,0], color=cmap(3))\n",
        "plt.plot(ts, Zs[:,1], color=cmap(3),linestyle='--')\n",
        "\n",
        "plt.xlabel(\"Time\", fontsize=12)\n",
        "plt.ylabel(\"Concentration\", fontsize=12)\n",
        "line1 = Line2D(range(1), range(1), color='#3b7fb9')\n",
        "line2 = Line2D(range(1), range(1), color='#3b7fb9',linestyle='--')\n",
        "line3 = Line2D(range(1), range(1), color='g')\n",
        "plt.legend((line1,line2,line3),('Cell X','Cell Y',\"Time to Switch\"),numpoints=1, loc=7,prop={\"size\":12},markerscale=2)\n",
        " \n",
        "sm = plt.cm.ScalarMappable(cmap=cmap)\n",
        "sm.set_array([])\n",
        "cbar=plt.colorbar(sm, ticks=np.linspace(0, 1, 4, endpoint=False) + 1/12,label='Varying value of parameter n')\n",
        "cbar.ax.set_yticklabels(['2.0','2.25', '2.5', '2.75'])\n",
        "cbar.ax.axes.tick_params(length=0)\n",
        "\n",
        "plt.show()"
      ],
      "metadata": {
        "id": "1p-XHeuZyjrM"
      },
      "execution_count": null,
      "outputs": []
    },
    {
      "cell_type": "markdown",
      "source": [
        "Plotting a phase portrait for the system."
      ],
      "metadata": {
        "id": "4yZPPP9QyqnE"
      }
    },
    {
      "cell_type": "code",
      "source": [
        "from matplotlib.lines import Line2D\n",
        "\n",
        "# Varying both at same time\n",
        "ts = np.linspace(0, 10, 1000)\n",
        "xs = np.arange(0, 1, 0.03) #vary X concentration from 0 to 1\n",
        "ys = np.arange(0, 1, 0.03) \n",
        "y = 0.5\n",
        "initial_theta=0.3\n",
        "X, Y = np.meshgrid(xs, ys)\n",
        "u, v = dZ_dt([X,Y], ts, f, mu=1,theta = initial_theta, n=3)\n",
        "\n",
        "X,Y = np.meshgrid(xs,ys)\n",
        "\n",
        "\n",
        "\n",
        "fig, ax = plt.subplots(figsize=(9,9))\n",
        "\n",
        "\n",
        "ax.quiver(X,Y,u,v)\n",
        "\n",
        "\n",
        "\n",
        "ax.set_aspect('equal')\n",
        "\n",
        "nseries = 2;  # number of curves on the phase plot\n",
        "ts = np.linspace(0, 10, 1000)\n",
        "xs = np.linspace(0, 0.1, nseries) # do 0.01 instead of 0.25, DO LESS TRAJECTORIES\n",
        "ys = np.linspace(0, 0.1, nseries) \n",
        "\n",
        "for x in range(nseries):\n",
        "  for y in range(nseries):\n",
        "    Xs = odeint(dZ_dt, (xs[x], ys[y]), ts,args=(f,1,initial_theta))\n",
        "    if (Xs[:,0].any() == 0):\n",
        "      plt.plot(Xs[:,0],Xs[:,1],'+', color = 'red')\n",
        "    else:\n",
        "      plt.plot(Xs[:,0], Xs[:,1], color='red');\n",
        "plt.xlabel(\"Cell X\",fontsize=20); plt.ylabel(\"Cell Y\",fontsize=20);\n",
        "\n",
        "\n",
        "xs = np.linspace(0, 1, nseries) # do 0.01 instead of 0.25, DO LESS TRAJECTORIES\n",
        "ys = np.linspace(0, 1, nseries) \n",
        "plt.plot(xs,ys, color = 'red')\n",
        "ax.plot([0.0285],[0.999], marker=\"o\", color = 'black', markersize=15) \n",
        "ax.plot([0.999],[0.0285], marker=\"o\", color = 'black', markersize=15)\n",
        "ax.plot([0.35],[0.35], marker=\"o\", color='black', markersize=15, mfc='none') #saddle point\n",
        "\n",
        "line1 = Line2D(range(1), range(1), color=\"w\", marker='o', markerfacecolor=\"black\", markersize=10)\n",
        "\n",
        "line2 = Line2D(range(1), range(1), color=\"w\", marker='o',markeredgecolor='black',markersize=10)\n",
        "plt.legend((line1,line2),('Stable equilibrium points','Unstable saddle point'),numpoints=1, loc=1,prop={\"size\":20},markerscale=2)\n",
        "plt.show()\n",
        "#plt.savefig(f\"{images_dir}/Phase portrait with theta=0.3, initial conditions(0,1,0.01), point after saddle-node bifurcation.png\")\n",
        "\n",
        "#files.download(\"Phase portrait with 3 points. theta=0.3, initial conditions(0,1,0.03).png\")\n"
      ],
      "metadata": {
        "id": "JwFtD225ysxs"
      },
      "execution_count": null,
      "outputs": []
    },
    {
      "cell_type": "markdown",
      "source": [
        "# Model 2: Delay differential equations (DDEs)"
      ],
      "metadata": {
        "id": "kBUmhW7Dywi9"
      }
    },
    {
      "cell_type": "code",
      "source": [
        "!pip install ddeint"
      ],
      "metadata": {
        "id": "o2dEcUY4zBfk"
      },
      "execution_count": null,
      "outputs": []
    },
    {
      "cell_type": "code",
      "source": [
        "# EXAMPLE\n",
        "# Import modules\n",
        "from pylab import cos, linspace, subplots\n",
        "from ddeint import ddeint\n",
        "\n",
        "# Define any new functions\n",
        "def delay_model(Z,ts,tau,f):\n",
        "    X, Y = Z(ts)\n",
        "    xd,yd = Z(ts-tau)\n",
        "    dx = -mu*X + f(yd, theta,n)\n",
        "    dy = -mu*Y + f(xd, theta,n)\n",
        "    return [dx,dy]\n",
        "\n",
        "# Define initial conditions and parameters\n",
        "xy_0 = lambda t : np.array([0,0.01])\n",
        "ts = np.linspace(0, 50, 1000)\n",
        "mu = 1\n",
        "theta = 0.3\n",
        "n = 3\n",
        "\n",
        "# Introduce the delay\n",
        "tau = 1\n",
        "\n",
        "# Run simulation\n",
        "yy = ddeint(delay_model,xy_0,ts,fargs=(tau,f,))\n",
        "\n",
        "# Plot simulation\n",
        "fig = plt.figure()\n",
        "fig.set_size_inches(6,6)\n",
        "plt.plot(ts,yy[:,0],lw=2, label='Cell X')\n",
        "plt.plot(ts,yy[:,1],lw=2, label ='Cell Y')\n",
        "plt.xlabel('Time',fontsize=13)\n",
        "plt.ylabel('Concentration',fontsize=13)\n",
        "plt.legend(fontsize=13)"
      ],
      "metadata": {
        "id": "JprXWzH3zBz_"
      },
      "execution_count": null,
      "outputs": []
    },
    {
      "cell_type": "markdown",
      "source": [
        "One trajectory on phase portrait of system - explains oscillations"
      ],
      "metadata": {
        "id": "VLjJWveszHQl"
      }
    },
    {
      "cell_type": "code",
      "source": [
        "fig, ax = plt.subplots(figsize=(9,9))\n",
        "plt.plot(yy[:,0], yy[:,1], lw=2, label='Delay = %.01f'%d)\n",
        "ax.plot([0.45],[0.45], marker=\"o\", color = 'red', markeredgecolor=\"red\", markersize=15,label='Unstable saddle point')\n",
        "ax.legend(prop={\"size\":20},markerscale=1)\n",
        "plt.xlabel('Cell X Concentration',fontsize=13)\n",
        "plt.ylabel('Cell Y Concentration',fontsize=13)"
      ],
      "metadata": {
        "id": "tDWlGhpPzK8C"
      },
      "execution_count": null,
      "outputs": []
    },
    {
      "cell_type": "markdown",
      "source": [
        "# Model 3: Stochastic differential equations (SDEs)"
      ],
      "metadata": {
        "id": "UurFxQJfy6Dp"
      }
    },
    {
      "cell_type": "code",
      "source": [
        "# EXAMPLE - Uses the Milstein method\n",
        "# Import modules\n",
        "import numpy as np\n",
        "import matplotlib.pyplot as plt\n",
        "\n",
        "# Define initial conditions and parameters\n",
        "N = 10000 \n",
        "t_init = 0\n",
        "t_end = 15\n",
        "dt = float(t_end - t_init) / N\n",
        "ts = np.arange(t_init, t_end + dt, dt)\n",
        "ys = np.zeros(N + 1)\n",
        "xs = np.zeros(N + 1)\n",
        "b=0.01\n",
        "sigma = 0.075\n",
        "\n",
        "# Define new functions\n",
        "def dW(delta_t):\n",
        "    \"\"\"Random sample normal distribution\"\"\"\n",
        "    return np.random.normal(loc=0.0, scale=np.sqrt(delta_t))\n",
        "\n",
        "def f(X):\n",
        "    \"\"\"Hill function with parameters mu=1,theta=0.3,n=3\"\"\"\n",
        "    return 1/(1+pow((X/0.3),3))\n",
        "\n",
        "# Simulate SDE using Milstein Method\n",
        "for i in range(1, ts.size):\n",
        "  t = (i - 1) * dt\n",
        "  y = ys[i - 1]\n",
        "  x = xs[i-1]\n",
        "  xs[i] = x + (-1*x+ f(y))* dt + (1-b)*sigma*x*dW(dt) + 0.5* sigma**2 * x* (dW(dt)**2 - dt)\n",
        "  ys[i] = y + (-1*y + f(x))* dt + sigma*y*dW(dt) + 0.5* sigma**2 * y* (dW(dt)**2 - dt)\n",
        "\n",
        "# Plot simulation\n",
        "fig = plt.figure(figsize=(6, 6))\n",
        "\n",
        "\n",
        "plt.plot(ts, xs, label=\"Cell X\")\n",
        "plt.plot(ts, ys,label=\"Cell Y\")\n",
        "\n",
        "plt.xlabel(\"Time\",fontsize=12)\n",
        "h = plt.ylabel(\"Concentration\",fontsize=12)\n",
        "plt.legend(loc=7,prop={\"size\":15},markerscale=2)\n",
        "plt.show()"
      ],
      "metadata": {
        "id": "yB83TE-dzUkB"
      },
      "execution_count": null,
      "outputs": []
    },
    {
      "cell_type": "code",
      "source": [
        "# ------------------------------------------------------------------------------\n",
        "# INVESTIGATING BIAS\n",
        "# ------------------------------------------------------------------------------\n",
        "\n",
        "# Import modules\n",
        "import numpy as np\n",
        "import matplotlib.pyplot as plt\n",
        "\n",
        "# Define initial conditions and parameters\n",
        "N = 10000 \n",
        "t_init = 0\n",
        "t_end = 15\n",
        "dt = float(t_end - t_init) / N\n",
        "ts = np.arange(t_init, t_end + dt, dt)\n",
        "ys = np.zeros(N + 1)\n",
        "xs = np.zeros(N + 1)\n",
        "b=0.1\n",
        "sigma = 0\n",
        "\n",
        "# Define new functions\n",
        "def dW(delta_t):\n",
        "    \"\"\"Random sample normal distribution\"\"\"\n",
        "    return np.random.normal(loc=0.0, scale=np.sqrt(delta_t))\n",
        "\n",
        "def f(X):\n",
        "    \"\"\"Hill function with parameters mu=1,theta=0.3,n=3\"\"\"\n",
        "    return 1/(1+pow((X/0.3),3))\n",
        "\n",
        "# Simulate SDE using Milstein Method\n",
        "for i in range(1, ts.size):\n",
        "  t = (i - 1) * dt\n",
        "  y = ys[i - 1]\n",
        "  x = xs[i-1]\n",
        "  xs[i] = x + (-1*x+ f(y))* dt + (1-b)*sigma*x*dW(dt) + 0.5* sigma**2 * x* (dW(dt)**2 - dt)\n",
        "  ys[i] = y + (-1*y + f(x))* dt + sigma*y*dW(dt) + 0.5* sigma**2 * y* (dW(dt)**2 - dt)\n",
        "\n",
        "# Plot simulation\n",
        "fig = plt.figure(figsize=(6, 6))\n",
        "\n",
        "\n",
        "plt.plot(ts, xs, label=\"Cell X\")\n",
        "plt.plot(ts, ys,label=\"Cell Y\")\n",
        "\n",
        "plt.xlabel(\"Time\",fontsize=12)\n",
        "h = plt.ylabel(\"Concentration\",fontsize=12)\n",
        "plt.legend(loc=7,prop={\"size\":15},markerscale=2)\n",
        "plt.show()"
      ],
      "metadata": {
        "id": "oT4AgYkhzZXm"
      },
      "execution_count": null,
      "outputs": []
    },
    {
      "cell_type": "markdown",
      "source": [
        ""
      ],
      "metadata": {
        "id": "0HCgEL49zTJi"
      }
    },
    {
      "cell_type": "markdown",
      "source": [
        "# Model 4: Stochastic delay differential equations (SDDEs)"
      ],
      "metadata": {
        "id": "arkeibP_y8op"
      }
    }
  ]
}